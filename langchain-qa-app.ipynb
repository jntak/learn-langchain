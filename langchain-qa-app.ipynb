{
 "cells": [
  {
   "cell_type": "code",
   "execution_count": 2,
   "id": "81228a4e-5f97-442f-bfa5-f026e88762b4",
   "metadata": {},
   "outputs": [
    {
     "name": "stdout",
     "output_type": "stream",
     "text": [
      "C:\\Users\\PC\\Desktop\\joshua ntak\\projects\\langchain-qa-app\n"
     ]
    }
   ],
   "source": [
    "!cd"
   ]
  },
  {
   "cell_type": "code",
   "execution_count": 3,
   "id": "56c3a526-24df-4f29-8570-d125cf4883f7",
   "metadata": {},
   "outputs": [
    {
     "name": "stdout",
     "output_type": "stream",
     "text": [
      " Volume in drive C is Joshua Ntak\n",
      " Volume Serial Number is 8678-7943\n",
      "\n",
      " Directory of C:\\Users\\PC\\Desktop\\joshua ntak\\projects\\langchain-qa-app\n",
      "\n",
      "20-Sep-25  09:07    <DIR>          .\n",
      "20-Sep-25  09:07    <DIR>          ..\n",
      "19-Sep-25  23:24               295 .env\n",
      "20-Sep-25  09:05                27 .gitignore\n",
      "20-Sep-25  09:07    <DIR>          .ipynb_checkpoints\n",
      "20-Sep-25  08:50            11,329 langchain-qa-app.ipynb\n",
      "               3 File(s)         11,651 bytes\n",
      "               3 Dir(s)  40,214,016,000 bytes free\n"
     ]
    }
   ],
   "source": [
    "!dir"
   ]
  },
  {
   "cell_type": "code",
   "execution_count": 7,
   "id": "67da018b-9b0c-471a-bc9a-a529615cc46f",
   "metadata": {},
   "outputs": [],
   "source": [
    "import os\n",
    "from dotenv import load_dotenv, find_dotenv\n",
    "\n",
    "load_dotenv(find_dotenv(), override=True) \n",
    "\n",
    "GEMINI_API_KEY = os.environ.get(\"GEMINI_API_KEY\")\n",
    "\n"
   ]
  },
  {
   "cell_type": "code",
   "execution_count": 3,
   "id": "47e54220-c4dd-4a3b-9570-404bc5dc1dc8",
   "metadata": {},
   "outputs": [],
   "source": [
    "from langchain_google_genai import ChatGoogleGenerativeAI"
   ]
  },
  {
   "cell_type": "code",
   "execution_count": 9,
   "id": "8408da6b-a1b8-4e3a-b474-23a441856475",
   "metadata": {},
   "outputs": [],
   "source": [
    "llm = ChatGoogleGenerativeAI(\n",
    "    model=\"gemini-2.0-flash\",\n",
    "    google_api_key=GEMINI_API_KEY,\n",
    "    temperature=0,\n",
    "    max_tokens=None,\n",
    "    timeout=None,\n",
    "    max_retries=2,\n",
    ")"
   ]
  },
  {
   "cell_type": "code",
   "execution_count": 26,
   "id": "85d5cc1b-a287-4597-b42e-bee8618ddc88",
   "metadata": {},
   "outputs": [
    {
     "name": "stdout",
     "output_type": "stream",
     "text": [
      "Imagine the world is made of tiny LEGO bricks, but these bricks are super weird. That's kind of what quantum mechanics is about. It's the science that describes the behavior of matter and energy at the atomic and subatomic level – the really, really small stuff.\n",
      "\n",
      "Here's the breakdown in simple terms:\n",
      "\n",
      "*   **Everything is Quantized:** Instead of being able to have any amount of something (like water), energy, light, and even matter come in specific, discrete packets, like those LEGO bricks. You can't have half a brick. These packets are called \"quanta.\"\n",
      "\n",
      "*   **Things are Fuzzy (Probability):**  Instead of knowing exactly where something is, quantum mechanics tells us the *probability* of finding it in a certain place. It's like saying, \"There's a 70% chance the LEGO brick is in this box, and a 30% chance it's in that one.\"  Before you look, it's kind of in both places at once!\n",
      "\n",
      "*   **Observation Changes Things:** When you *do* look to see where the LEGO brick is, the act of looking forces it to \"choose\" a location.  The probability collapses, and you find it in one box or the other.  In quantum mechanics, measuring something changes it.\n",
      "\n",
      "*   **Things can be in Multiple States at Once (Superposition):** Before you look in the boxes, the LEGO brick is in a \"superposition\" of being in both boxes simultaneously. It's only when you observe it that it settles into one definite state.\n",
      "\n",
      "*   **Things can be Linked Together (Entanglement):** Imagine you have two special LEGO bricks that are linked. If you change the color of one, the other instantly changes color too, even if they're far apart. This is entanglement, and it's one of the weirdest and most powerful concepts in quantum mechanics.\n",
      "\n",
      "**In short:** Quantum mechanics is a set of rules that describe how the very small parts of the universe behave. These rules are very different from what we experience in our everyday lives, leading to concepts like quantization, probability, superposition, and entanglement. It's weird, but it's also incredibly accurate and has led to many important technologies like lasers, transistors, and medical imaging.\n"
     ]
    }
   ],
   "source": [
    "response = llm.invoke(\"What is Quantum mechanics, In clear and simple terms\")\n",
    "print(response.content)"
   ]
  },
  {
   "cell_type": "code",
   "execution_count": 11,
   "id": "27e6389a-f4c1-4259-9877-0acbb606e410",
   "metadata": {},
   "outputs": [],
   "source": [
    "# help(ChatGoogleGenerativeAI)"
   ]
  },
  {
   "cell_type": "code",
   "execution_count": 5,
   "id": "a5ed1619-14ff-4133-ac23-f086a284fcca",
   "metadata": {},
   "outputs": [],
   "source": [
    "from langchain.schema import (\n",
    "    AIMessage,\n",
    "    SystemMessage,\n",
    "    HumanMessage\n",
    ")"
   ]
  },
  {
   "cell_type": "markdown",
   "id": "c3bb4f8a-d43a-4add-92c0-821cecdee58c",
   "metadata": {},
   "source": [
    "# Caching LLM Responses"
   ]
  },
  {
   "cell_type": "markdown",
   "id": "192c6154-0ba1-476b-b3ab-ee1efb245f8f",
   "metadata": {},
   "source": [
    "## In-memory Cache "
   ]
  },
  {
   "cell_type": "code",
   "execution_count": null,
   "id": "fa5e44c4-404d-4ccb-8f43-42627ddabd82",
   "metadata": {},
   "outputs": [],
   "source": [
    "from langchain.globals import set_llm_cache"
   ]
  }
 ],
 "metadata": {
  "kernelspec": {
   "display_name": "Python (ai-engine)",
   "language": "python",
   "name": "ai-engine"
  },
  "language_info": {
   "codemirror_mode": {
    "name": "ipython",
    "version": 3
   },
   "file_extension": ".py",
   "mimetype": "text/x-python",
   "name": "python",
   "nbconvert_exporter": "python",
   "pygments_lexer": "ipython3",
   "version": "3.10.18"
  }
 },
 "nbformat": 4,
 "nbformat_minor": 5
}
